{
 "cells": [
  {
   "cell_type": "code",
   "execution_count": 1,
   "metadata": {
    "collapsed": true
   },
   "outputs": [],
   "source": [
    "import findspark\n",
    "import os\n",
    "findspark.init('/usr/lib/apache_spark')\n",
    "\n",
    "import pyspark\n",
    "sc = pyspark.SparkContext()"
   ]
  },
  {
   "cell_type": "code",
   "execution_count": 28,
   "metadata": {
    "collapsed": false
   },
   "outputs": [],
   "source": [
    "from pathlib import Path\n",
    "import requests\n",
    "from math import ceil\n",
    "\n",
    "taxidir = Path('taxidata')\n",
    "if not taxidir.exists(): taxidir.mkdir(parents=True)"
   ]
  },
  {
   "cell_type": "code",
   "execution_count": null,
   "metadata": {
    "collapsed": false
   },
   "outputs": [],
   "source": [
    "for n in range(1, 13):\n",
    "    trip_url = 'https://nyctaxitrips.blob.core.windows.net/data/trip_data_%d.csv.zip' % n\n",
    "    path = taxidir / ('trip_data_%d.csv.zip' % n)\n",
    "    if path.exists(): continue\n",
    "    print(path)\n",
    "    request = requests.get(trip_url, stream=True)\n",
    "    length = int(request.headers.get('Content-Length', 0))\n",
    "    \n",
    "    chunk_size = 1024*1024\n",
    "    num_chunks = ceil(length / chunk_size)\n",
    "    with path.open('wb') as fd:\n",
    "        for chunk_num, chunk in enumerate(request.iter_content(chunk_size), 1):\n",
    "            fd.write(chunk)\n",
    "            if chunk_num % 10 == 0:\n",
    "                print('%4d / %4d' % (chunk_num, num_chunks), path)"
   ]
  }
 ],
 "metadata": {
  "kernelspec": {
   "display_name": "Python 3",
   "language": "python",
   "name": "python3"
  },
  "language_info": {
   "codemirror_mode": {
    "name": "ipython",
    "version": 3
   },
   "file_extension": ".py",
   "mimetype": "text/x-python",
   "name": "python",
   "nbconvert_exporter": "python",
   "pygments_lexer": "ipython3",
   "version": "3.5.0"
  }
 },
 "nbformat": 4,
 "nbformat_minor": 0
}
