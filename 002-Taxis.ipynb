{
 "cells": [
  {
   "cell_type": "code",
   "execution_count": 1,
   "metadata": {
    "collapsed": true
   },
   "outputs": [],
   "source": [
    "import findspark\n",
    "import os\n",
    "findspark.init('/usr/lib/apache_spark')\n",
    "\n",
    "import pyspark\n",
    "sc = pyspark.SparkContext()"
   ]
  },
  {
   "cell_type": "code",
   "execution_count": 18,
   "metadata": {
    "collapsed": false
   },
   "outputs": [],
   "source": [
    "from pathlib import Path\n",
    "from zipfile import ZipFile\n",
    "import requests\n",
    "from io import BytesIO\n",
    "\n",
    "taxidir = Path('taxidata')\n",
    "if not taxidir.exists(): taxidir.mkdir(parents=True)"
   ]
  },
  {
   "cell_type": "code",
   "execution_count": null,
   "metadata": {
    "collapsed": false
   },
   "outputs": [
    {
     "name": "stdout",
     "output_type": "stream",
     "text": [
      "taxidata/trip_data_1.csv.zip\n",
      "10 taxidata/trip_data_1.csv.zip\n",
      "20 taxidata/trip_data_1.csv.zip\n",
      "30 taxidata/trip_data_1.csv.zip\n",
      "40 taxidata/trip_data_1.csv.zip\n",
      "50 taxidata/trip_data_1.csv.zip\n",
      "60 taxidata/trip_data_1.csv.zip\n",
      "70 taxidata/trip_data_1.csv.zip\n",
      "80 taxidata/trip_data_1.csv.zip\n",
      "90"
     ]
    }
   ],
   "source": [
    "for n in range(1, 13):\n",
    "    trip_url = 'https://nyctaxitrips.blob.core.windows.net/data/trip_data_%d.csv.zip' % n\n",
    "    path = taxidir / ('trip_data_%d.csv.zip' % n)\n",
    "    if path.exists(): continue\n",
    "    print(path)\n",
    "    request = requests.get(trip_url, stream=True)\n",
    "    \n",
    "    with path.open('wb') as fd:\n",
    "        for n,chunk in enumerate(request.iter_content(1000*1000), 1):\n",
    "            fd.write(chunk)\n",
    "            if n % 10 == 0:\n",
    "                print(n, path)"
   ]
  },
  {
   "cell_type": "code",
   "execution_count": null,
   "metadata": {
    "collapsed": true
   },
   "outputs": [],
   "source": []
  }
 ],
 "metadata": {
  "kernelspec": {
   "display_name": "Python 3",
   "language": "python",
   "name": "python3"
  },
  "language_info": {
   "codemirror_mode": {
    "name": "ipython",
    "version": 3
   },
   "file_extension": ".py",
   "mimetype": "text/x-python",
   "name": "python",
   "nbconvert_exporter": "python",
   "pygments_lexer": "ipython3",
   "version": "3.5.0"
  }
 },
 "nbformat": 4,
 "nbformat_minor": 0
}
