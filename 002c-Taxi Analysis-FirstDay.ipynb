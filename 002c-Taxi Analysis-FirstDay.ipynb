{
 "cells": [
  {
   "cell_type": "code",
   "execution_count": 1,
   "metadata": {
    "collapsed": false
   },
   "outputs": [
    {
     "name": "stdout",
     "output_type": "stream",
     "text": [
      "Populating the interactive namespace from numpy and matplotlib\n"
     ]
    }
   ],
   "source": [
    "%pylab inline"
   ]
  },
  {
   "cell_type": "code",
   "execution_count": 2,
   "metadata": {
    "collapsed": true
   },
   "outputs": [],
   "source": [
    "from zipfile import ZipFile\n",
    "import pandas"
   ]
  },
  {
   "cell_type": "code",
   "execution_count": 19,
   "metadata": {
    "collapsed": false
   },
   "outputs": [
    {
     "name": "stdout",
     "output_type": "stream",
     "text": [
      "1 22\n",
      "2 45\n",
      "3 75\n",
      "4 32\n",
      "5 71\n",
      "6 57\n",
      "7 74\n",
      "8 75\n",
      "9 46\n",
      "10 90824\n",
      "11 97673\n",
      "12 16840\n",
      "13 92\n",
      "14 78\n",
      "15 37\n",
      "16 66\n",
      "17 74\n",
      "18 91\n",
      "19 199\n",
      "20 62\n",
      "21 23\n",
      "24 627\n",
      "25 64558\n",
      "26 8481\n",
      "27 14\n",
      "30 0\n",
      "40 0\n",
      "46 18307\n",
      "47 25471\n",
      "48 4067\n",
      "50 0\n",
      "60 0\n",
      "61 528\n",
      "62 8765\n",
      "63 475\n",
      "67 518\n",
      "68 3540\n",
      "69 8509\n",
      "70 12721\n",
      "71 15341\n",
      "72 3041\n",
      "80 0\n",
      "90 0\n",
      "100 0\n",
      "110 0\n",
      "117 3150\n",
      "118 723\n",
      "119 684\n",
      "120 0\n",
      "121 3\n",
      "122 79\n",
      "123 45\n",
      "124 40\n",
      "125 73\n",
      "126 45\n",
      "127 69\n",
      "128 57\n",
      "129 55\n",
      "130 65\n",
      "131 47\n",
      "132 65\n",
      "133 60\n",
      "134 114\n",
      "135 145\n",
      "136 3796\n",
      "137 4059\n",
      "140 0\n",
      "146 460\n",
      "147 5799\n",
      "148 4132\n",
      "Data chunks: 60\n"
     ]
    }
   ],
   "source": [
    "alldats = []\n",
    "taxidir = Path('taxidata')\n",
    "for n in range(1, 13):\n",
    "    path = taxidir / ('trip_data_%d.csv.zip' % n)\n",
    "    with path.open('rb') as fd:\n",
    "        unzipped = ZipFile(fd)\n",
    "        fname, = unzipped.namelist()\n",
    "        \n",
    "        with unzipped.open(fname) as fd:\n",
    "            for chunk_no, chunk in enumerate(pandas.read_csv(fd, chunksize=100000, parse_dates=[5,6]),1): #dtype=dtypes), 1):\n",
    "                ix = chunk.pickup_datetime < datetime.datetime(2013,1,2)\n",
    "                ix = ix & (chunk.pickup_latitude > 40) & (chunk.pickup_latitude < 42)\n",
    "                ix = ix & (chunk.pickup_longitude < -73) & (chunk.pickup_longitude > -75)\n",
    "                n = sum(ix)\n",
    "                if n > 0:\n",
    "                    alldats.append(chunk[ix])\n",
    "                \n",
    "                if n > 0 or chunk_no % 10 == 0:\n",
    "                    print(chunk_no, n)\n",
    "            print('Data chunks:', len(alldats))\n",
    "    break"
   ]
  },
  {
   "cell_type": "code",
   "execution_count": 12,
   "metadata": {
    "collapsed": false
   },
   "outputs": [],
   "source": [
    "concatted = pandas.concat(alldats)\n",
    "tosave = concatted.iloc[:, 7:]"
   ]
  },
  {
   "cell_type": "code",
   "execution_count": 15,
   "metadata": {
    "collapsed": false
   },
   "outputs": [
    {
     "data": {
      "text/plain": [
       "'firstday.csv'"
      ]
     },
     "execution_count": 15,
     "metadata": {},
     "output_type": "execute_result"
    }
   ],
   "source": [
    "save_path.stem"
   ]
  },
  {
   "cell_type": "code",
   "execution_count": 18,
   "metadata": {
    "collapsed": false
   },
   "outputs": [],
   "source": [
    "save_path = taxidir / 'firstday.csv.zip'\n",
    "with ZipFile(str(save_path), mode='w') as zipped:\n",
    "    csv = tosave.to_csv(index=False)\n",
    "    zipped.writestr(save_path.stem, csv)"
   ]
  },
  {
   "cell_type": "code",
   "execution_count": 21,
   "metadata": {
    "collapsed": true
   },
   "outputs": [],
   "source": [
    "class ReadTell:\n",
    "    def __init__(self, fd):\n",
    "        self._fd = fd\n",
    "        self._eof = False\n",
    "        self._tell = 0\n",
    "    \n",
    "    def _update_tell(self, out):\n",
    "        if len(out) == 0:\n",
    "            self._eof = True\n",
    "        else:\n",
    "            self._tell += len(out)\n",
    "        return out\n",
    "    \n",
    "    def read(self, *args):\n",
    "        return self._update_tell(self._fd.read(*args))\n",
    "    \n",
    "    def readline(self, *args):\n",
    "        return self._update_tell(self._fd.readline(*args))\n",
    "    \n",
    "    def readlines(self, *args):\n",
    "        return self._update_tell(self._fd.readlines(*args))\n",
    "    \n",
    "    def close(self):\n",
    "        self._fd.close()\n",
    "        self._eof = True\n",
    "    \n",
    "    def done(self):\n",
    "        return self._eof\n",
    "    \n",
    "    def tell(self):\n",
    "        return self._tell\n",
    "    \n",
    "    def __enter__(self):\n",
    "        return self\n",
    "    \n",
    "    def __exit__(self,*args):\n",
    "        self.close()"
   ]
  },
  {
   "cell_type": "code",
   "execution_count": 36,
   "metadata": {
    "collapsed": false
   },
   "outputs": [
    {
     "name": "stdout",
     "output_type": "stream",
     "text": [
      "                          medallion                      hack_license  \\\n",
      "0  89D227B655E5C82AECF13C3F540D4CF4  BA96DE419E711691B9445D6A6307C170   \n",
      "1  0BD7C8F5BA12B88E0B67BED28BEA73D8  9FD8F69F0804BDB5549F40E9DA1BE472   \n",
      "2  0BD7C8F5BA12B88E0B67BED28BEA73D8  9FD8F69F0804BDB5549F40E9DA1BE472   \n",
      "3  DFD2202EE08F7A8DC9A57B02ACB81FE2  51EE87E3205C985EF8431D850C786310   \n",
      "4  DFD2202EE08F7A8DC9A57B02ACB81FE2  51EE87E3205C985EF8431D850C786310   \n",
      "5  20D9ECB2CA0767CF7A01564DF2844A3E  598CCE5B9C1918568DEE71F43CF26CD2   \n",
      "6  496644932DF3932605C22C7926FF0FE0  513189AD756FF14FE670D10B92FAF04C   \n",
      "7  0B57B9633A2FECD3D3B1944AFC7471CF  CCD4367B417ED6634D986F573A552A62   \n",
      "8  2C0E91FF20A856C891483ED63589F982  1DA2F6543A62B8ED934771661A9D2FA0   \n",
      "9  2D4B95E2FA7B2E85118EC5CA4570FA58  CD2F522EEE1FF5F5A8D8B679E23576B3   \n",
      "\n",
      "  vendor_id  rate_code store_and_fwd_flag      pickup_datetime  \\\n",
      "0       CMT          1                  N  2013-01-01 15:11:48   \n",
      "1       CMT          1                  N  2013-01-06 00:18:35   \n",
      "2       CMT          1                  N  2013-01-05 18:49:41   \n",
      "3       CMT          1                  N  2013-01-07 23:54:15   \n",
      "4       CMT          1                  N  2013-01-07 23:25:03   \n",
      "5       CMT          1                  N  2013-01-07 15:27:48   \n",
      "6       CMT          1                  N  2013-01-08 11:01:15   \n",
      "7       CMT          1                  N  2013-01-07 12:39:18   \n",
      "8       CMT          1                  N  2013-01-07 18:15:47   \n",
      "9       CMT          1                  N  2013-01-07 15:33:28   \n",
      "\n",
      "      dropoff_datetime  passenger_count  trip_time_in_secs  trip_distance  \\\n",
      "0  2013-01-01 15:18:10                4                382            1.0   \n",
      "1  2013-01-06 00:22:54                1                259            1.5   \n",
      "2  2013-01-05 18:54:23                1                282            1.1   \n",
      "3  2013-01-07 23:58:20                2                244            0.7   \n",
      "4  2013-01-07 23:34:24                1                560            2.1   \n",
      "5  2013-01-07 15:38:37                1                648            1.7   \n",
      "6  2013-01-08 11:08:14                1                418            0.8   \n",
      "7  2013-01-07 13:10:56                3               1898           10.7   \n",
      "8  2013-01-07 18:20:47                1                299            0.8   \n",
      "9  2013-01-07 15:49:26                2                957            2.5   \n",
      "\n",
      "   pickup_longitude  pickup_latitude  dropoff_longitude  dropoff_latitude  \n",
      "0        -73.978165        40.757977         -73.989838         40.751171  \n",
      "1        -74.006683        40.731781         -73.994499         40.750660  \n",
      "2        -74.004707        40.737770         -74.009834         40.726002  \n",
      "3        -73.974602        40.759945         -73.984734         40.759388  \n",
      "4        -73.976250        40.748528         -74.002586         40.747868  \n",
      "5        -73.966743        40.764252         -73.983322         40.743763  \n",
      "6        -73.995804        40.743977         -74.007416         40.744343  \n",
      "7        -73.989937        40.756775         -73.865250         40.770630  \n",
      "8        -73.980072        40.743137         -73.982712         40.735336  \n",
      "9        -73.977936        40.786983         -73.952919         40.806370  \n",
      "                          medallion                      hack_license  \\\n",
      "0  E12F6AF991172EAC3553144A0AF75A19  06918214E951FA0003D1CC54955C2AB0   \n",
      "1  E12F6AF991172EAC3553144A0AF75A19  06918214E951FA0003D1CC54955C2AB0   \n",
      "2  78FFD9CD0CDA541F335EF8B38FB494D6  E949C583ECF62C8F03FDCE1484954A08   \n",
      "3  237F49C3ECC11F5024B254268F054384  93C363DDF8ED9385D65FAD07CE3F5F07   \n",
      "4  3349F919AA8AE5DC9C50A3773EA45BD8  7CE849FEF67514F080AF80D990F7EF7F   \n",
      "5  3349F919AA8AE5DC9C50A3773EA45BD8  7CE849FEF67514F080AF80D990F7EF7F   \n",
      "6  4C005EEBAA7BF26B84B21586332488A2  351BE7D984BE17DB2FA80A748E816472   \n",
      "7  7D99C30FCE69B1A9DD27E2AEAC9BFA0C  460C3F57DD9CB2265DB75B14CD70224D   \n",
      "8  E6FBF80668FE0611AEA44FD9574A7E32  36773E80775F26CD1158EB5450A61C79   \n",
      "9  0C5296F3C8B16E702F8F2E06F5106552  D2363240A9295EF570FC6069BC4F4C92   \n",
      "\n",
      "  vendor_id  rate_code store_and_fwd_flag      pickup_datetime  \\\n",
      "0       CMT          1                  N  2013-01-08 13:11:52   \n",
      "1       CMT          1                  N  2013-01-08 09:50:05   \n",
      "2       CMT          1                  N  2013-01-10 12:07:08   \n",
      "3       CMT          1                  N  2013-01-07 07:35:47   \n",
      "4       CMT          1                  N  2013-01-10 15:42:29   \n",
      "5       CMT          1                  N  2013-01-10 14:27:28   \n",
      "6       CMT          1                  N  2013-01-07 22:09:59   \n",
      "7       CMT          1                  N  2013-01-07 17:18:16   \n",
      "8       CMT          1                  N  2013-01-07 06:08:51   \n",
      "9       CMT          1                  N  2013-01-07 22:25:46   \n",
      "\n",
      "      dropoff_datetime  passenger_count  trip_time_in_secs  trip_distance  \\\n",
      "0  2013-01-08 13:19:50                1                477            1.3   \n",
      "1  2013-01-08 10:02:54                1                768            0.7   \n",
      "2  2013-01-10 12:17:29                1                620            2.3   \n",
      "3  2013-01-07 07:46:00                1                612            2.3   \n",
      "4  2013-01-10 16:04:02                1               1293            3.2   \n",
      "5  2013-01-10 14:45:21                1               1073            4.4   \n",
      "6  2013-01-07 22:19:50                1                591            1.7   \n",
      "7  2013-01-07 17:20:55                1                158            0.7   \n",
      "8  2013-01-07 06:13:14                1                262            1.7   \n",
      "9  2013-01-07 22:36:56                1                669            2.3   \n",
      "\n",
      "   pickup_longitude  pickup_latitude  dropoff_longitude  dropoff_latitude  \n",
      "0        -73.982452        40.773167         -73.964134         40.773815  \n",
      "1        -73.995560        40.749294         -73.988686         40.759052  \n",
      "2        -73.971497        40.791321         -73.964478         40.775921  \n",
      "3        -73.988510        40.774307         -73.981094         40.755325  \n",
      "4        -73.994911        40.723221         -73.971558         40.761612  \n",
      "5        -74.010391        40.708702         -73.987846         40.756104  \n",
      "6        -73.973732        40.756287         -73.998413         40.756832  \n",
      "7        -73.968925        40.767704         -73.961990         40.776566  \n",
      "8        -73.962120        40.769737         -73.979561         40.755390  \n",
      "9        -73.989708        40.756714         -73.977615         40.787575  \n",
      "                          medallion                      hack_license  \\\n",
      "0  D8AADA4E722C87C10E609654612630DD  8F1E4F779A4D67431C3FCFA4E70A87DC   \n",
      "1  B6FC8357E0D53B0F1FA897D536A20F5C  113A5BA8513934DEE97A342E3535DE96   \n",
      "2  E12F6AF991172EAC3553144A0AF75A19  06918214E951FA0003D1CC54955C2AB0   \n",
      "3  4C005EEBAA7BF26B84B21586332488A2  351BE7D984BE17DB2FA80A748E816472   \n",
      "4  E9BA494DC1A1F26D186394EFBB8327CF  BBF604B3A2426BFBAAC982AAAA0BF1B5   \n",
      "5  E6FBF80668FE0611AEA44FD9574A7E32  36773E80775F26CD1158EB5450A61C79   \n",
      "6  0C5296F3C8B16E702F8F2E06F5106552  D2363240A9295EF570FC6069BC4F4C92   \n",
      "7  A3B17384165197E18CA0A1BB61277EE9  B8396B62883EA332EFD2771A6B031D05   \n",
      "8  8E189DABE265CC03FEF4BFC695B32559  906939B31C0B93768242A58A682412B8   \n",
      "9  312E0CB058D7FC1A6494EDB66D360CD2  7B5156F38990963332B33298C8BAE25E   \n",
      "\n",
      "  vendor_id  rate_code store_and_fwd_flag      pickup_datetime  \\\n",
      "0       CMT          2                  N  2013-01-10 23:41:51   \n",
      "1       CMT          1                  N  2013-01-07 18:05:36   \n",
      "2       CMT          1                  N  2013-01-08 13:29:25   \n",
      "3       CMT          1                  N  2013-01-07 21:13:02   \n",
      "4       CMT          1                  N  2013-01-01 18:36:53   \n",
      "5       CMT          1                  Y  2013-01-07 08:17:06   \n",
      "6       CMT          1                  N  2013-01-07 22:39:03   \n",
      "7       CMT          1                  N  2013-01-07 06:26:32   \n",
      "8       CMT          1                  N  2013-01-01 14:02:01   \n",
      "9       CMT          1                  N  2013-01-05 11:54:49   \n",
      "\n",
      "      dropoff_datetime  passenger_count  trip_time_in_secs  trip_distance  \\\n",
      "0  2013-01-11 00:09:11                1               1640           17.5   \n",
      "1  2013-01-07 18:23:50                4               1094            3.8   \n",
      "2  2013-01-08 13:37:52                1                507            1.2   \n",
      "3  2013-01-07 21:22:31                1                568            1.1   \n",
      "4  2013-01-01 18:39:04                1                131            0.5   \n",
      "5  2013-01-07 08:22:46                1                340            1.5   \n",
      "6  2013-01-07 22:44:16                1                312            1.5   \n",
      "7  2013-01-07 06:28:24                2                111            0.5   \n",
      "8  2013-01-01 14:27:39                2               1537           10.2   \n",
      "9  2013-01-05 12:03:48                1                539            0.8   \n",
      "\n",
      "   pickup_longitude  pickup_latitude  dropoff_longitude  dropoff_latitude  \n",
      "0        -73.783310        40.648766         -73.988914         40.748207  \n",
      "1        -73.956505        40.771278         -73.996368         40.732460  \n",
      "2        -73.955780        40.779320         -73.967285         40.763344  \n",
      "3        -73.978439        40.764679         -73.977684         40.777004  \n",
      "4        -73.992172        40.749954         -73.996750         40.744553  \n",
      "5        -73.992111        40.689701         -74.007156         40.679295  \n",
      "6        -73.978653        40.787735         -73.965790         40.805321  \n",
      "7        -73.965317        40.769375         -73.967133         40.763699  \n",
      "8        -73.862709        40.769142         -73.982079         40.762295  \n",
      "9        -73.977127        40.748310         -73.990913         40.751053  \n",
      "                          medallion                      hack_license  \\\n",
      "0  F1EF8290A54338B1396DD98E38E09143  0FDDEFAFF6FC38BD632B6DDED47DA618   \n",
      "1  0F9E0728AB1E40D5CEB0C6EDBF805CCB  8434E8A33D8C0150573FAA00B8A9ABF5   \n",
      "2  33A0B414EB87DB2538CB5929BF1EEE0D  8105CBF11B1747C525FA81334375EF5B   \n",
      "3  24B56A4A0AC119529DBA559181C14FE4  CD5A75F5F950B3E26D561732332C8A5D   \n",
      "4  7E3256C342CAFB3C23D3ABB98B9F3FB6  4F7873C913735088F9BEF85C1D054D31   \n",
      "5  2C159C8FCCDE50174CF6CFC07E75F1BA  51C567531541EE45C5EE86E956E46E4C   \n",
      "6  1F03ADDC384F4C5FB5E760528D4E0BA5  6607D2680127BFBCFF94193B15578DE7   \n",
      "7  764CA5AE502C0FEC9BB69DBCB6BB4ECC  26516CD746248B3495CBD99A8ABAF8B4   \n",
      "8  CD9DEF073BAB75B8B36015D85FD3F777  80430F0667E3C82E63AAF4F0DC547664   \n",
      "9  DD98E2C3AF5C47B4449F720ECC5778D4  79807332B275653A2473554C7328500A   \n",
      "\n",
      "  vendor_id  rate_code store_and_fwd_flag      pickup_datetime  \\\n",
      "0       CMT          1                  N  2013-01-05 08:16:58   \n",
      "1       CMT          1                  N  2013-01-05 19:04:43   \n",
      "2       CMT          1                  N  2013-01-05 17:34:11   \n",
      "3       CMT          1                  N  2013-01-05 18:59:29   \n",
      "4       CMT          1                  N  2013-01-05 03:00:46   \n",
      "5       CMT          1                  N  2013-01-07 04:45:14   \n",
      "6       CMT          1                  N  2013-01-01 18:45:02   \n",
      "7       CMT          1                  N  2013-01-05 20:51:53   \n",
      "8       CMT          1                  N  2013-01-05 03:20:28   \n",
      "9       CMT          1                  N  2013-01-02 06:58:08   \n",
      "\n",
      "      dropoff_datetime  passenger_count  trip_time_in_secs  trip_distance  \\\n",
      "0  2013-01-05 08:30:20                1                801            6.5   \n",
      "1  2013-01-05 19:13:58                1                555            2.8   \n",
      "2  2013-01-05 17:48:54                1                882            5.2   \n",
      "3  2013-01-05 19:12:21                1                771            2.4   \n",
      "4  2013-01-05 03:23:28                1               1361            5.5   \n",
      "5  2013-01-07 04:48:56                1                222            0.9   \n",
      "6  2013-01-01 18:48:48                1                225            1.2   \n",
      "7  2013-01-05 21:02:43                3                650            3.3   \n",
      "8  2013-01-05 03:43:36                4               1387           11.2   \n",
      "9  2013-01-02 07:24:24                1               1576            3.0   \n",
      "\n",
      "   pickup_longitude  pickup_latitude  dropoff_longitude  dropoff_latitude  \n",
      "0        -73.976318        40.682724         -73.917915         40.742664  \n",
      "1        -73.966682        40.761139         -73.938515         40.792332  \n",
      "2        -73.948334        40.776482         -73.991760         40.733841  \n",
      "3        -73.993202        40.724407         -73.984833         40.748741  \n",
      "4        -73.965500        40.711113         -73.918327         40.758671  \n",
      "5        -73.991936        40.749622         -73.978531         40.751308  \n",
      "6        -73.982384        40.752102         -73.993332         40.736393  \n",
      "7        -73.993828        40.721008         -73.952400         40.723228  \n",
      "8        -73.991142        40.750366         -73.984436         40.618481  \n",
      "9        -73.987022        40.759373         -73.862022         40.768017  \n"
     ]
    }
   ],
   "source": [
    "path = taxidir / ('trip_data_1.csv.zip')\n",
    "with path.open('rb') as fd:\n",
    "    unzipped = ZipFile(fd)\n",
    "    fname, = unzipped.namelist()\n",
    "    with unzipped.open(fname) as fd:\n",
    "        for n,chunk in enumerate(pandas.read_csv(fd, chunksize=10)):\n",
    "            print(chunk)\n",
    "            if n >= 3: break"
   ]
  },
  {
   "cell_type": "code",
   "execution_count": 42,
   "metadata": {
    "collapsed": true
   },
   "outputs": [],
   "source": [
    "pandas.read_csv?\n",
    "dtype={'medallion':np.str}"
   ]
  },
  {
   "cell_type": "code",
   "execution_count": 29,
   "metadata": {
    "collapsed": false
   },
   "outputs": [
    {
     "data": {
      "text/plain": [
       "Index(['medallion', 'hack_license', 'vendor_id', 'rate_code',\n",
       "       'store_and_fwd_flag', 'pickup_datetime', 'dropoff_datetime',\n",
       "       'passenger_count', 'trip_time_in_secs', 'trip_distance',\n",
       "       'pickup_longitude', 'pickup_latitude', 'dropoff_longitude',\n",
       "       'dropoff_latitude'],\n",
       "      dtype='object')"
      ]
     },
     "execution_count": 29,
     "metadata": {},
     "output_type": "execute_result"
    }
   ],
   "source": []
  },
  {
   "cell_type": "code",
   "execution_count": 38,
   "metadata": {
    "collapsed": true
   },
   "outputs": [],
   "source": [
    "dtypes={'pickup_datetime': np.datetime64, 'dropoff_datetime':  np.datetime64}"
   ]
  },
  {
   "cell_type": "code",
   "execution_count": 23,
   "metadata": {
    "collapsed": false,
    "scrolled": true
   },
   "outputs": [
    {
     "name": "stdout",
     "output_type": "stream",
     "text": [
      "1 29\n",
      "2 51\n",
      "3 79\n",
      "4 46\n",
      "5 62\n",
      "6 60\n",
      "7 77\n",
      "8 96\n",
      "9 1900\n",
      "10 99233\n",
      "11 96163\n",
      "12 8858\n",
      "13 78\n",
      "14 79\n",
      "15 41\n",
      "16 74\n",
      "17 79\n",
      "18 100\n",
      "19 207\n",
      "20 63\n",
      "21 5\n",
      "24 8812\n",
      "25 61948\n",
      "26 3850\n",
      "27 3\n",
      "46 33876\n",
      "47 13281\n",
      "48 1426\n",
      "61 6626\n",
      "62 3232\n",
      "63 42\n",
      "66 94\n",
      "67 2690\n",
      "68 1349\n",
      "69 20875\n",
      "70 1274\n",
      "71 18069\n",
      "72 14\n",
      "101 1\n",
      "109 3\n",
      "112 1\n",
      "113 1\n",
      "116 3203\n",
      "117 459\n",
      "118 954\n",
      "120 3\n",
      "121 83\n",
      "122 48\n",
      "123 42\n",
      "124 76\n",
      "125 46\n",
      "126 71\n",
      "127 58\n",
      "128 63\n",
      "129 60\n",
      "130 44\n",
      "131 84\n",
      "132 52\n",
      "133 120\n",
      "134 682\n",
      "135 3669\n",
      "136 3715\n",
      "145 1380\n",
      "146 5900\n",
      "147 3228\n",
      "Data chunks: 147\n"
     ]
    },
    {
     "name": "stderr",
     "output_type": "stream",
     "text": [
      "/usr/lib/python3.5/site-packages/IPython/core/interactiveshell.py:2902: DtypeWarning: Columns (3) have mixed types. Specify dtype option on import or set low_memory=False.\n",
      "  interactivity=interactivity, compiler=compiler, result=result)\n"
     ]
    }
   ],
   "source": [
    "alldats = []\n",
    "taxidir = Path('taxidata')\n",
    "for n in range(1, 13):\n",
    "    path = taxidir / ('trip_data_%d.csv.zip' % n)\n",
    "    with path.open('rb') as fd:\n",
    "        unzipped = ZipFile(fd)\n",
    "        fname, = unzipped.namelist()\n",
    "        \n",
    "        headernames = None\n",
    "        data_chunks = 0\n",
    "        last_tell = 0\n",
    "        with ReadTell(unzipped.open(fname)) as fd:\n",
    "            while not fd.done():\n",
    "                if headernames is None:\n",
    "                    data = pandas.read_csv(fd, nrows=100000)\n",
    "                    headernames = data.columns\n",
    "                else:\n",
    "                    data = pandas.read_csv(fd, nrows=100000, header=None, names=headernames)\n",
    "                ix = pandas.to_datetime(data.pickup_datetime, errors='coerce') < datetime.datetime(2013,1,2)\n",
    "                n = sum(ix)\n",
    "                data_chunks += 1\n",
    "                if n > 0:\n",
    "                    alldats.append(data[ix])\n",
    "                \n",
    "                if n > 0 or data_chunks % 10 == 0:\n",
    "                    print(data_chunks, n)\n",
    "            print('Data chunks:', data_chunks)\n",
    "    break"
   ]
  },
  {
   "cell_type": "code",
   "execution_count": null,
   "metadata": {
    "collapsed": false
   },
   "outputs": [],
   "source": [
    "len(alldats)"
   ]
  },
  {
   "cell_type": "code",
   "execution_count": null,
   "metadata": {
    "collapsed": false
   },
   "outputs": [],
   "source": [
    "pandas.to_datetime(concatted.pickup_datetime).max()"
   ]
  },
  {
   "cell_type": "code",
   "execution_count": null,
   "metadata": {
    "collapsed": true
   },
   "outputs": [],
   "source": [
    "speeds = data.trip_distance / (data.trip_time_in_secs / 3600)"
   ]
  },
  {
   "cell_type": "code",
   "execution_count": null,
   "metadata": {
    "collapsed": false
   },
   "outputs": [],
   "source": [
    "speeds_sported = speeds[np.isfinite(speeds) & (speeds < 120)].sort_values()\n",
    "speeds_sported[-10:]"
   ]
  },
  {
   "cell_type": "code",
   "execution_count": null,
   "metadata": {
    "collapsed": true
   },
   "outputs": [],
   "source": [
    "hist?"
   ]
  },
  {
   "cell_type": "code",
   "execution_count": null,
   "metadata": {
    "collapsed": false
   },
   "outputs": [],
   "source": [
    "speeds_sported.hist(bins=ceil(sqrt(len(speeds_sported))), histtype='step', linewidth=3, color=green)"
   ]
  },
  {
   "cell_type": "code",
   "execution_count": null,
   "metadata": {
    "collapsed": false
   },
   "outputs": [],
   "source": [
    "speeds.hist()"
   ]
  },
  {
   "cell_type": "code",
   "execution_count": null,
   "metadata": {
    "collapsed": false
   },
   "outputs": [],
   "source": [
    "taxidir = Path('taxidata')\n",
    "for n in range(1, 13):\n",
    "    path = taxidir / ('trip_data_%d.csv.zip' % n)\n",
    "    with path.open('rb') as fd:\n",
    "        unzipped = ZipFile(fd)\n",
    "        fname, = unzipped.namelist()\n",
    "        for lineno, line in enumerate(unzipped.open(fname), 1):\n",
    "            print(fname, '::', lineno, '::', line.decode('utf-8'))\n",
    "            if lineno >= 20:\n",
    "                break\n",
    "    break"
   ]
  },
  {
   "cell_type": "code",
   "execution_count": null,
   "metadata": {
    "collapsed": false
   },
   "outputs": [],
   "source": [
    "for n in range(1, 13):\n",
    "    trip_url = 'https://nyctaxitrips.blob.core.windows.net/data/trip_data_%d.csv.zip' % n\n",
    "    path = taxidir / ('trip_data_%d.csv.zip' % n)\n",
    "    if path.exists(): continue\n",
    "    print(path)\n",
    "    request = requests.get(trip_url, stream=True)\n",
    "    break"
   ]
  },
  {
   "cell_type": "code",
   "execution_count": null,
   "metadata": {
    "collapsed": false
   },
   "outputs": [],
   "source": [
    "length = int(request.headers['Content-Length'])"
   ]
  },
  {
   "cell_type": "code",
   "execution_count": null,
   "metadata": {
    "collapsed": false
   },
   "outputs": [],
   "source": [
    "for n in range(1, 10):\n",
    "    if n % 5 == 0:\n",
    "        print('Found', n)\n",
    "        break\n",
    "else:\n",
    "    print('Not Found')"
   ]
  },
  {
   "cell_type": "code",
   "execution_count": null,
   "metadata": {
    "collapsed": true
   },
   "outputs": [],
   "source": [
    "import math"
   ]
  },
  {
   "cell_type": "code",
   "execution_count": null,
   "metadata": {
    "collapsed": false
   },
   "outputs": [],
   "source": [
    "math.ceil(894.2)"
   ]
  },
  {
   "cell_type": "code",
   "execution_count": null,
   "metadata": {
    "collapsed": true
   },
   "outputs": [],
   "source": []
  }
 ],
 "metadata": {
  "kernelspec": {
   "display_name": "Python 3",
   "language": "python",
   "name": "python3"
  },
  "language_info": {
   "codemirror_mode": {
    "name": "ipython",
    "version": 3
   },
   "file_extension": ".py",
   "mimetype": "text/x-python",
   "name": "python",
   "nbconvert_exporter": "python",
   "pygments_lexer": "ipython3",
   "version": "3.5.0"
  }
 },
 "nbformat": 4,
 "nbformat_minor": 0
}
